{
 "cells": [
  {
   "cell_type": "markdown",
   "metadata": {},
   "source": [
    "# Face Detection using OpenCV\n",
    "\n",
    "![face_detection](face_detec.jpg)"
   ]
  },
  {
   "cell_type": "code",
   "execution_count": 4,
   "metadata": {},
   "outputs": [],
   "source": [
    "# import libraries\n",
    "import cv2 # OpenCv libarary"
   ]
  },
  {
   "cell_type": "code",
   "execution_count": 5,
   "metadata": {},
   "outputs": [],
   "source": [
    "face_cascade = cv2.CascadeClassifier(\"haarcascade_frontalface_default.xml\") # load harcascade classifier (It contain the face featuers)"
   ]
  },
  {
   "cell_type": "markdown",
   "metadata": {},
   "source": [
    "# Discription\n",
    "1. detectMultiScale (Method to search for the face rectangle co-ordinates)\n",
    "2. scaleFactor (Decrease the shape value by 5%, until the face is found. Smaller the value greater is the accuracy)"
   ]
  },
  {
   "cell_type": "code",
   "execution_count": 11,
   "metadata": {},
   "outputs": [
    {
     "name": "stdout",
     "output_type": "stream",
     "text": [
      "<class 'numpy.ndarray'>\n",
      "[[3084 1172  267  267]\n",
      " [2533 1194  338  338]\n",
      " [2162 1360  386  386]\n",
      " [1379 1364  707  707]\n",
      " [ 406 1564 1089 1089]\n",
      " [2515 1846   56   56]\n",
      " [ 260 2824  118  118]\n",
      " [ 729 2812  168  168]\n",
      " [2994 2528  232  232]\n",
      " [2806 1285  309  309]\n",
      " [3045 1761   91   91]\n",
      " [2039 2356   68   68]\n",
      " [2988  694  288  288]\n",
      " [2909  787  158  158]\n",
      " [3317 1571  275  275]]\n"
     ]
    }
   ],
   "source": [
    "img = cv2.imread('zing.jpg')\n",
    "gray_img = cv2.cvtColor(img, cv2.COLOR_BGR2GRAY) # convert color image into gray scale\n",
    "faces = face_cascade.detectMultiScale(gray_img, scaleFactor = 1.05, minNeighbors = 5) #search co-ordinates of the image\n",
    "print(type(faces))\n",
    "print(faces)"
   ]
  },
  {
   "cell_type": "markdown",
   "metadata": {},
   "source": [
    "# Add rectangular FaceBox"
   ]
  },
  {
   "cell_type": "markdown",
   "metadata": {},
   "source": [
    "# Discription\n",
    "1. rectangle (method to create the rectangle on face)\n",
    "2. img (object of the image)\n",
    "3. x+w, y+h (co-ordinates of the image)\n",
    "4. 0,255,0 (RGB values of th erectangle)\n",
    "5. 3 (width of the rectangular box)"
   ]
  },
  {
   "cell_type": "code",
   "execution_count": 12,
   "metadata": {},
   "outputs": [],
   "source": [
    "for x,y,w,h in faces:\n",
    "    img = cv2.rectangle(img, (x,y), (x+w, y+h), (0,255,0), 3)"
   ]
  },
  {
   "cell_type": "code",
   "execution_count": 13,
   "metadata": {},
   "outputs": [],
   "source": [
    "resize = cv2.resize(img, (int(img.shape[1]/7), int(img.shape[0]/7))) # for resizing the image to see properly"
   ]
  },
  {
   "cell_type": "code",
   "execution_count": 16,
   "metadata": {},
   "outputs": [],
   "source": [
    "cv2.imshow(\"Gray\", resize)\n",
    "cv2.waitKey(0)\n",
    "cv2.destroyAllWindows()"
   ]
  }
 ],
 "metadata": {
  "kernelspec": {
   "display_name": "Python 3",
   "language": "python",
   "name": "python3"
  },
  "language_info": {
   "codemirror_mode": {
    "name": "ipython",
    "version": 3
   },
   "file_extension": ".py",
   "mimetype": "text/x-python",
   "name": "python",
   "nbconvert_exporter": "python",
   "pygments_lexer": "ipython3",
   "version": "3.7.5"
  }
 },
 "nbformat": 4,
 "nbformat_minor": 2
}
